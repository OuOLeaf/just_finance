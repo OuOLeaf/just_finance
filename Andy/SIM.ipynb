{
 "cells": [
  {
   "cell_type": "markdown",
   "metadata": {},
   "source": [
    "# Regular Saving Plan\n",
    "- buy the stock at the opening price in the first day of the month.\n",
    "- calculate the asset at the closing price in the last day of the month."
   ]
  },
  {
   "cell_type": "markdown",
   "metadata": {},
   "source": [
    "## Setting\n",
    "- Monthly investment account: 1000\n",
    "- Duration from 2013/01/01~2013/12/31\n",
    "- Stock Code: 0050"
   ]
  },
  {
   "cell_type": "code",
   "execution_count": 1,
   "metadata": {},
   "outputs": [],
   "source": [
    "import pandas as pd\n",
    "import numpy as np\n",
    "data = pd.read_csv('s0050.csv')\n",
    "data['date'] = pd.to_datetime(data['date'])"
   ]
  },
  {
   "cell_type": "code",
   "execution_count": 2,
   "metadata": {},
   "outputs": [],
   "source": [
    "data2013 = data.loc[data['date'].dt.year == 2013].copy()\n",
    "data2013['month'] = data2013['date'].dt.month\n",
    "first_days = data2013.groupby('month').first().reset_index(drop=True)\n",
    "last_days = data2013.groupby('month').last().reset_index(drop=True)"
   ]
  },
  {
   "cell_type": "code",
   "execution_count": 3,
   "metadata": {},
   "outputs": [],
   "source": [
    "opening_price = first_days.open\n",
    "closing_price = last_days.close"
   ]
  },
  {
   "cell_type": "code",
   "execution_count": 4,
   "metadata": {},
   "outputs": [
    {
     "name": "stdout",
     "output_type": "stream",
     "text": [
      "    Duration (Months)    Assets  Profit Ratio (%)\n",
      "0                   0   1011.11              1.11\n",
      "1                   1   2031.36              1.57\n",
      "2                   2   3023.17              0.77\n",
      "3                   3   4118.09              2.95\n",
      "4                   4   5168.89              3.38\n",
      "5                   5   5977.07             -0.38\n",
      "6                   6   7172.63              2.47\n",
      "7                   7   8065.21              0.82\n",
      "8                   8   9274.39              3.05\n",
      "9                   9  10411.89              4.12\n",
      "10                 10  11341.19              3.10\n",
      "11                 11  12586.91              4.89\n"
     ]
    }
   ],
   "source": [
    "# Initialize variables to store results\n",
    "MIA = 1000  # Monthly investment amount, adjust as needed\n",
    "durations = np.arange(len(first_days))  # Durations from 0 to the number of months - 1\n",
    "\n",
    "# Calculate cumulative stock bought for each month\n",
    "opening_prices = first_days['open'].values\n",
    "closing_prices = last_days['close'].values\n",
    "\n",
    "cumulative_stock = np.cumsum(MIA / opening_prices)\n",
    "final_assets = np.round(cumulative_stock * closing_prices, 2)\n",
    "\n",
    "# Calculate the invested amount for each month\n",
    "invested_amounts = MIA * (durations + 1)\n",
    "\n",
    "# Calculate profit ratios\n",
    "profit_ratios = np.round((final_assets - invested_amounts) / invested_amounts, 4) * 100\n",
    "\n",
    "# Create the resulting DataFrame\n",
    "result = pd.DataFrame({\n",
    "    'Duration (Months)': durations,\n",
    "    'Assets': final_assets,\n",
    "    'Profit Ratio (%)': profit_ratios\n",
    "})\n",
    "\n",
    "\n",
    "# Display the result\n",
    "print(result)"
   ]
  }
 ],
 "metadata": {
  "kernelspec": {
   "display_name": "Python 3",
   "language": "python",
   "name": "python3"
  },
  "language_info": {
   "codemirror_mode": {
    "name": "ipython",
    "version": 3
   },
   "file_extension": ".py",
   "mimetype": "text/x-python",
   "name": "python",
   "nbconvert_exporter": "python",
   "pygments_lexer": "ipython3",
   "version": "3.10.2"
  }
 },
 "nbformat": 4,
 "nbformat_minor": 2
}
