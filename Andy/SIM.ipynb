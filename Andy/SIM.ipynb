{
 "cells": [
  {
   "cell_type": "markdown",
   "metadata": {},
   "source": [
    "# Regular Saving Plan\n",
    "- buy the stock at the opening price in the first day of the month.\n",
    "- calculate the asset at the closing price in the last day of the month."
   ]
  },
  {
   "cell_type": "markdown",
   "metadata": {},
   "source": [
    "## Setting\n",
    "- Monthly investment account: 1000\n",
    "- Duration from 2013/01/01~2013/12/31\n",
    "- Stock Code: 0050"
   ]
  },
  {
   "cell_type": "code",
   "execution_count": 1,
   "metadata": {},
   "outputs": [],
   "source": [
    "MIA = 1000"
   ]
  },
  {
   "cell_type": "code",
   "execution_count": 2,
   "metadata": {},
   "outputs": [],
   "source": [
    "import pandas as pd\n",
    "import numpy as np\n",
    "data = pd.read_csv('s0050.csv')\n",
    "data['date'] = pd.to_datetime(data['date'])"
   ]
  },
  {
   "cell_type": "code",
   "execution_count": 3,
   "metadata": {},
   "outputs": [],
   "source": [
    "data2013 = data.loc[data['date'].dt.year == 2013].copy()\n",
    "data2013['month'] = data2013['date'].dt.month\n",
    "first_days = data2013.groupby('month').first().reset_index(drop=True)\n",
    "last_days = data2013.groupby('month').last().reset_index(drop=True)"
   ]
  },
  {
   "cell_type": "code",
   "execution_count": 4,
   "metadata": {},
   "outputs": [],
   "source": [
    "opening_price = first_days.open\n",
    "closing_price = last_days.close"
   ]
  },
  {
   "cell_type": "code",
   "execution_count": 5,
   "metadata": {},
   "outputs": [
    {
     "name": "stdout",
     "output_type": "stream",
     "text": [
      "12586.91 4.89\n"
     ]
    }
   ],
   "source": [
    "cumulative_stock = np.cumsum(MIA / opening_price)\n",
    "final_asset = round(cumulative_stock.iloc[-1] * closing_price.iloc[-1], 2)\n",
    "profit_ratio = round((final_asset - MIA * len(opening_price))/ (MIA * len(opening_price)), 4) * 100\n",
    "print(final_asset, profit_ratio)"
   ]
  }
 ],
 "metadata": {
  "kernelspec": {
   "display_name": "Python 3",
   "language": "python",
   "name": "python3"
  },
  "language_info": {
   "codemirror_mode": {
    "name": "ipython",
    "version": 3
   },
   "file_extension": ".py",
   "mimetype": "text/x-python",
   "name": "python",
   "nbconvert_exporter": "python",
   "pygments_lexer": "ipython3",
   "version": "3.10.2"
  }
 },
 "nbformat": 4,
 "nbformat_minor": 2
}
